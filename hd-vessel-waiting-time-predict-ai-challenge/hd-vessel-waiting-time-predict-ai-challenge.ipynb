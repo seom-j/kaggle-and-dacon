{
  "cells": [
    {
      "cell_type": "markdown",
      "metadata": {
        "id": "IZOXtT5Jm31H"
      },
      "source": [
        "# IMPORT"
      ]
    },
    {
      "cell_type": "code",
      "execution_count": null,
      "metadata": {
        "colab": {
          "base_uri": "https://localhost:8080/"
        },
        "id": "Y6_0OGxNWXUo",
        "outputId": "df977085-9c11-4f39-ba76-c5c2cd2b6392"
      },
      "outputs": [
        {
          "name": "stdout",
          "output_type": "stream",
          "text": [
            "Drive already mounted at /content/drive; to attempt to forcibly remount, call drive.mount(\"/content/drive\", force_remount=True).\n"
          ]
        }
      ],
      "source": [
        "from google.colab import drive\n",
        "drive.mount('/content/drive')"
      ]
    },
    {
      "cell_type": "code",
      "execution_count": null,
      "metadata": {
        "id": "V-oeBI_lWYWn"
      },
      "outputs": [],
      "source": [
        "import matplotlib.pyplot as plt\n",
        "import pandas as pd\n",
        "import numpy as np\n",
        "import lightgbm as lgb\n",
        "import bisect\n",
        "from tqdm import tqdm\n",
        "from sklearn.metrics import mean_absolute_error\n",
        "from sklearn.preprocessing import LabelEncoder\n",
        "from sklearn.model_selection import KFold"
      ]
    },
    {
      "cell_type": "code",
      "execution_count": null,
      "metadata": {
        "id": "hUVcGJnIKIDO"
      },
      "outputs": [],
      "source": [
        "import tensorflow as tf\n",
        "\n",
        "# TensorFlow에서 난수 생성 시드 고정\n",
        "tf.random.set_seed(42)\n",
        "\n",
        "# Keras에서 난수 생성 시드 고정 (케라스 사용 시 TensorFlow 백엔드를 사용하는 경우)\n",
        "from keras import backend as K\n",
        "K.clear_session()"
      ]
    },
    {
      "cell_type": "code",
      "execution_count": null,
      "metadata": {
        "id": "cjsDCJN2Ve8F"
      },
      "outputs": [],
      "source": [
        "# data 불러오기\n",
        "train = pd.read_csv('경로/train.csv').drop(columns=['SAMPLE_ID'])\n",
        "test = pd.read_csv('경로/test.csv').drop(columns=['SAMPLE_ID'])\n",
        "\n",
        "# datetime 컬럼 처리\n",
        "train['ATA'] = pd.to_datetime(train['ATA'])\n",
        "test['ATA'] = pd.to_datetime(test['ATA'])\n",
        "\n",
        "# datetime을 여러 파생 변수로 변환\n",
        "for df in [train, test]:\n",
        "    df['year'] = df['ATA'].dt.year\n",
        "    df['month'] = df['ATA'].dt.month\n",
        "    df['weekday'] = df['ATA'].dt.weekday\n",
        "\n",
        "# datetime 컬럼 제거\n",
        "train.drop(columns='ATA', inplace=True)\n",
        "test.drop(columns='ATA', inplace=True)"
      ]
    },
    {
      "cell_type": "markdown",
      "metadata": {
        "id": "HdtM7d1savO9"
      },
      "source": [
        "# 데이터 전처리"
      ]
    },
    {
      "cell_type": "markdown",
      "metadata": {
        "id": "ToTSY37G_VnL"
      },
      "source": [
        "#### eda"
      ]
    },
    {
      "cell_type": "code",
      "execution_count": null,
      "metadata": {
        "id": "dT9CsRr3-MrG"
      },
      "outputs": [],
      "source": [
        "import seaborn as sns\n",
        "\n",
        "# U_WIND 컬럼의 분포 확인\n",
        "plt.figure(figsize=(8, 6))\n",
        "sns.histplot(train['U_WIND'], kde=True, color='skyblue')\n",
        "plt.title('Distribution of U_WIND')\n",
        "plt.xlabel('U_WIND')\n",
        "plt.ylabel('Frequency')\n",
        "plt.show()"
      ]
    },
    {
      "cell_type": "code",
      "execution_count": null,
      "metadata": {
        "id": "DkV-aZnF-hBC"
      },
      "outputs": [],
      "source": [
        "# ARI_PO 별 U_WIND의 분포 확인\n",
        "plt.figure(figsize=(12, 6))\n",
        "sns.boxplot(x='ARI_PO', y='U_WIND', data=train, palette='Set2')\n",
        "plt.title('U_WIND Distribution by ARI_PO')\n",
        "plt.xlabel('ARI_PO')\n",
        "plt.ylabel('U_WIND')\n",
        "plt.xticks(rotation=45)\n",
        "plt.show()\n"
      ]
    },
    {
      "cell_type": "code",
      "execution_count": null,
      "metadata": {
        "id": "cjwVIHL_-wWW"
      },
      "outputs": [],
      "source": [
        "# ARI_PO 별 건수 확인\n",
        "ari_po_counts = train['ARI_PO'].value_counts()\n",
        "\n",
        "# ARI_PO 별 U_WIND가 0인 것들의 개수 확인\n",
        "zero_u_wind_counts = train[train['U_WIND'] == 0]['ARI_PO'].value_counts()\n",
        "\n",
        "print(\"ARI_PO 별 건수:\")\n",
        "print(ari_po_counts)\n",
        "\n",
        "print(\"\\nARI_PO 별 U_WIND가 0인 것들의 개수:\")\n",
        "print(zero_u_wind_counts)\n"
      ]
    },
    {
      "cell_type": "code",
      "execution_count": null,
      "metadata": {
        "id": "oH8OofZJ-95R"
      },
      "outputs": [],
      "source": [
        "# ARI_PO 그룹화 후 U_WIND 값이 모두 0인 항구 확인\n",
        "zero_u_wind_ports = train.groupby('ARI_PO')['U_WIND'].all()\n",
        "\n",
        "# U_WIND 값이 모두 0인 항구만 추출\n",
        "zero_u_wind_ports = zero_u_wind_ports[zero_u_wind_ports].index.tolist()\n",
        "\n",
        "print(\"U_WIND 값이 모두 0인 ARI_PO:\")\n",
        "print(zero_u_wind_ports)\n"
      ]
    },
    {
      "cell_type": "code",
      "execution_count": null,
      "metadata": {
        "id": "UZMCku4R_ERS"
      },
      "outputs": [],
      "source": [
        "# ARI_PO 그룹화 후 U_WIND 값이 모두 0인 항구 확인\n",
        "zero_u_wind_ports = train.groupby('ARI_PO')['V_WIND'].all()\n",
        "\n",
        "# U_WIND 값이 모두 0인 항구만 추출\n",
        "zero_u_wind_ports = zero_u_wind_ports[zero_u_wind_ports].index.tolist()\n",
        "\n",
        "print(\"U_WIND 값이 모두 0인 ARI_PO:\")\n",
        "print(zero_u_wind_ports)\n"
      ]
    },
    {
      "cell_type": "code",
      "execution_count": null,
      "metadata": {
        "id": "Yzz78Ojj_HKH"
      },
      "outputs": [],
      "source": [
        "# ARI_PO 그룹화 후 U_WIND 값이 모두 0인 항구 확인\n",
        "zero_u_wind_ports = train.groupby('ARI_PO')['AIR_TEMPERATURE'].all()\n",
        "\n",
        "# U_WIND 값이 모두 0인 항구만 추출\n",
        "zero_u_wind_ports = zero_u_wind_ports[zero_u_wind_ports].index.tolist()\n",
        "\n",
        "print(\"U_WIND 값이 모두 0인 ARI_PO:\")\n",
        "print(zero_u_wind_ports)\n"
      ]
    },
    {
      "cell_type": "markdown",
      "metadata": {
        "id": "lSPkLfQb4ATy"
      },
      "source": [
        "#### 컬럼 제거"
      ]
    },
    {
      "cell_type": "code",
      "execution_count": null,
      "metadata": {
        "id": "TbbWfiuY4Dm-"
      },
      "outputs": [],
      "source": [
        "# 관련성 낮은 컬럼 제거\n",
        "train.drop(columns=['ID', 'SHIPMANAGER'], inplace=True)\n",
        "test.drop(columns=['ID', 'SHIPMANAGER'], inplace=True)"
      ]
    },
    {
      "cell_type": "code",
      "execution_count": null,
      "metadata": {
        "id": "vJWwWlgi4aTM"
      },
      "outputs": [],
      "source": [
        "# # 결측치 많은 컬럼 제거\n",
        "# columns_to_drop = ['U_WIND', 'V_WIND', 'AIR_TEMPERATURE', 'BN']\n",
        "# train.drop(columns=columns_to_drop, inplace=True)\n",
        "# test.drop(columns=columns_to_drop, inplace=True)"
      ]
    },
    {
      "cell_type": "code",
      "execution_count": null,
      "metadata": {
        "colab": {
          "base_uri": "https://localhost:8080/"
        },
        "id": "moKe1rs2_wad",
        "outputId": "8991b206-38e6-4d59-f53f-7b222d2db73e"
      },
      "outputs": [
        {
          "name": "stdout",
          "output_type": "stream",
          "text": [
            "ARI_CO                0\n",
            "ARI_PO                0\n",
            "SHIP_TYPE_CATEGORY    0\n",
            "DIST                  0\n",
            "BREADTH               1\n",
            "BUILT                 0\n",
            "DEADWEIGHT            0\n",
            "DEPTH                 1\n",
            "DRAUGHT               1\n",
            "GT                    0\n",
            "LENGTH                1\n",
            "FLAG                  0\n",
            "U_WIND                0\n",
            "V_WIND                0\n",
            "AIR_TEMPERATURE       0\n",
            "BN                    0\n",
            "ATA_LT                0\n",
            "PORT_SIZE             0\n",
            "CI_HOUR               0\n",
            "year                  0\n",
            "month                 0\n",
            "weekday               0\n",
            "dtype: int64\n"
          ]
        }
      ],
      "source": [
        "# 'U_WIND', 'V_WIND', 'AIR_TEMPERATURE', 'BN' 컬럼의 결측치를 해당하는 ARI_PO의 평균값으로 채우기\n",
        "columns_to_fill = ['U_WIND', 'V_WIND', 'AIR_TEMPERATURE', 'BN']\n",
        "\n",
        "for column in columns_to_fill:\n",
        "    # ARI_PO 별 해당 컬럼의 평균값 계산\n",
        "    mean_values = train.groupby('ARI_PO')[column].mean()\n",
        "\n",
        "    # 결측치를 해당 ARI_PO의 평균값으로 채우기, 결측치가 있는 경우 0으로 대체\n",
        "    train[column] = train.apply(lambda row: mean_values[row['ARI_PO']] if not np.isnan(row[column]) else 0, axis=1)\n",
        "\n",
        "# 결측치가 0으로 잘 채워졌는지 확인\n",
        "print(train.isnull().sum())"
      ]
    },
    {
      "cell_type": "code",
      "execution_count": null,
      "metadata": {
        "colab": {
          "base_uri": "https://localhost:8080/"
        },
        "id": "yAUcNDnZC_gm",
        "outputId": "0f077d33-9f50-4b60-ea3a-2fe70816303f"
      },
      "outputs": [
        {
          "name": "stdout",
          "output_type": "stream",
          "text": [
            "ARI_CO                0\n",
            "ARI_PO                0\n",
            "SHIP_TYPE_CATEGORY    0\n",
            "DIST                  0\n",
            "BREADTH               0\n",
            "BUILT                 0\n",
            "DEADWEIGHT            0\n",
            "DEPTH                 0\n",
            "DRAUGHT               0\n",
            "GT                    0\n",
            "LENGTH                0\n",
            "FLAG                  0\n",
            "U_WIND                0\n",
            "V_WIND                0\n",
            "AIR_TEMPERATURE       0\n",
            "BN                    0\n",
            "ATA_LT                0\n",
            "PORT_SIZE             0\n",
            "year                  0\n",
            "month                 0\n",
            "weekday               0\n",
            "dtype: int64\n"
          ]
        }
      ],
      "source": [
        "# 'U_WIND', 'V_WIND', 'AIR_TEMPERATURE', 'BN' 컬럼의 결측치를 해당하는 ARI_PO의 평균값으로 채우기\n",
        "columns_to_fill = ['U_WIND', 'V_WIND', 'AIR_TEMPERATURE', 'BN']\n",
        "\n",
        "for column in columns_to_fill:\n",
        "    # train 데이터에서 ARI_PO 별 해당 컬럼의 평균값 계산\n",
        "    mean_values = train.groupby('ARI_PO')[column].mean()\n",
        "\n",
        "    # test 데이터의 결측치를 해당 ARI_PO의 평균값으로 채우기\n",
        "    test[column] = test.apply(lambda row: mean_values[row['ARI_PO']] if not np.isnan(row[column]) else 0, axis=1)\n",
        "\n",
        "# 결측치가 잘 채워졌는지 확인\n",
        "print(test.isnull().sum())"
      ]
    },
    {
      "cell_type": "code",
      "execution_count": null,
      "metadata": {
        "id": "OVOD3yGTBPT1"
      },
      "outputs": [],
      "source": [
        "# 항구명이 존재하므로 국가 없애\n",
        "train.drop(['ARI_CO'], axis=1, inplace=True)\n",
        "test.drop(['ARI_CO'], axis=1, inplace=True)"
      ]
    },
    {
      "cell_type": "code",
      "execution_count": null,
      "metadata": {
        "id": "agqhxbTdBgek"
      },
      "outputs": [],
      "source": [
        "# 그리고 배의 국가가 중요한 게 아니라 다른 원인이 있지 않을까 하고 상식선에서 일단 없애\n",
        "train.drop(['FLAG'], axis=1, inplace=True)\n",
        "test.drop(['FLAG'], axis=1, inplace=True)"
      ]
    },
    {
      "cell_type": "markdown",
      "metadata": {
        "id": "UJaWYyVczYc6"
      },
      "source": [
        "#### 결측치 처리"
      ]
    },
    {
      "cell_type": "code",
      "execution_count": null,
      "metadata": {
        "id": "BK9RP7OlHdr4"
      },
      "outputs": [],
      "source": [
        "# # 대체할 컬럼 선택\n",
        "# columns_to_impute = ['U_WIND', 'V_WIND', 'AIR_TEMPERATURE', 'BN']\n",
        "\n",
        "# # 선택한 컬럼의 결측치를 해당 열의 평균값으로 대체\n",
        "# for column in columns_to_impute:\n",
        "#     train[column].fillna(train[column].mean(), inplace=True)"
      ]
    },
    {
      "cell_type": "code",
      "execution_count": null,
      "metadata": {
        "id": "M0lzKXh0IcYA"
      },
      "outputs": [],
      "source": [
        "# # 대체할 컬럼 선택\n",
        "# columns_to_impute = ['U_WIND', 'V_WIND', 'AIR_TEMPERATURE', 'BN']\n",
        "\n",
        "# # 선택한 컬럼의 결측치를 해당 열의 평균값으로 대체\n",
        "# for column in columns_to_impute:\n",
        "#     test[column].fillna(test[column].mean(), inplace=True)"
      ]
    },
    {
      "cell_type": "code",
      "execution_count": null,
      "metadata": {
        "id": "PR5AGNv0Qal-"
      },
      "outputs": [],
      "source": [
        "train.dropna(inplace=True)"
      ]
    },
    {
      "cell_type": "markdown",
      "metadata": {
        "id": "KgqIfGCyjMhW"
      },
      "source": [
        "#### 인코딩"
      ]
    },
    {
      "cell_type": "code",
      "execution_count": null,
      "metadata": {
        "colab": {
          "base_uri": "https://localhost:8080/"
        },
        "id": "bt3VFtVjg0bp",
        "outputId": "15371b03-5d77-4f74-b5c3-54219180c89f"
      },
      "outputs": [
        {
          "name": "stderr",
          "output_type": "stream",
          "text": [
            "Encoding features: 100%|██████████| 2/2 [00:00<00:00,  2.33it/s]\n"
          ]
        }
      ],
      "source": [
        "categorical_features = ['ARI_PO', 'year']\n",
        "\n",
        "encoders = {}\n",
        "\n",
        "for feature in tqdm(categorical_features, desc=\"Encoding features\"):\n",
        "    le = LabelEncoder()\n",
        "    train[feature] = le.fit_transform(train[feature].astype(str))\n",
        "    le_classes_set = set(le.classes_)\n",
        "    test[feature] = test[feature].map(lambda s: '-1' if s not in le_classes_set else s)\n",
        "    le_classes = le.classes_.tolist()\n",
        "    bisect.insort_left(le_classes, '-1')\n",
        "    le.classes_ = np.array(le_classes)\n",
        "    test[feature] = le.transform(test[feature].astype(str))\n",
        "    encoders[feature] = le"
      ]
    },
    {
      "cell_type": "code",
      "execution_count": null,
      "metadata": {
        "id": "iolVn2tBUgC6"
      },
      "outputs": [],
      "source": [
        "# from sklearn.preprocessing import LabelEncoder\n",
        "\n",
        "# # Train 데이터셋의 'year' 열에 대한 정수 레이블 인코딩 수행\n",
        "# le = LabelEncoder()\n",
        "# train['year_encoded'] = le.fit_transform(train['year'])\n",
        "\n",
        "# # Test 데이터셋의 'year' 열에 대한 정수 레이블 인코딩 수행 (Train 데이터셋을 기반으로 transform)\n",
        "# test['year_encoded'] = le.transform(test['year'])\n",
        "\n",
        "# train.drop(columns=['year'], inplace=True)\n",
        "# test.drop(columns=['year'], inplace=True)"
      ]
    },
    {
      "cell_type": "code",
      "execution_count": null,
      "metadata": {
        "id": "_XYgeSmF0yOY"
      },
      "outputs": [],
      "source": [
        "# dummy_columns = ['weekday', 'month', 'ATA_LT']\n",
        "# train = pd.get_dummies(train, columns=dummy_columns, drop_first=True)\n",
        "# test = pd.get_dummies(test, columns=dummy_columns, drop_first=True)"
      ]
    },
    {
      "cell_type": "code",
      "execution_count": null,
      "metadata": {
        "colab": {
          "base_uri": "https://localhost:8080/"
        },
        "id": "w0evrHkTR-2A",
        "outputId": "a77541ca-6a1d-42d3-fd0b-67595fce9b7b"
      },
      "outputs": [
        {
          "name": "stdout",
          "output_type": "stream",
          "text": [
            "   ARI_PO SHIP_TYPE_CATEGORY       DIST  BREADTH  BUILT  DEADWEIGHT  DEPTH  \\\n",
            "0      21          Container  30.881018     30.0     24       24300   10.0   \n",
            "1      81               Bulk   0.000000     30.0     13       35900   10.0   \n",
            "2      14          Container   0.000000     50.0     12      146000   30.0   \n",
            "3     101          Container   0.000000     20.0     18        6910   10.0   \n",
            "4      21          Container  27.037650     50.0     10      116000   20.0   \n",
            "\n",
            "   DRAUGHT      GT  LENGTH    U_WIND    V_WIND  AIR_TEMPERATURE        BN  \\\n",
            "0     10.0   16700   180.0  0.000000  0.000000         0.000000  0.000000   \n",
            "1     10.0   23500   180.0  0.000000  0.000000         0.000000  0.000000   \n",
            "2     20.0  140000   370.0  0.000000  0.000000         0.000000  0.000000   \n",
            "3     10.0    5400   120.0  0.250009 -0.006850        14.931366  1.839731   \n",
            "4     10.0   96600   300.0 -0.527582 -0.075277        27.637513  2.014493   \n",
            "\n",
            "   ATA_LT  PORT_SIZE     CI_HOUR  year  month  is_weekend  \n",
            "0       5   0.002615    3.450000     4     12           0  \n",
            "1      12   0.000217    0.000000     0      9           0  \n",
            "2       6   0.001614    0.000000     1      2           0  \n",
            "3      13   0.000356    0.000000     6      1           0  \n",
            "4      15   0.002615  253.554444     6      1           1  \n"
          ]
        }
      ],
      "source": [
        "train['is_weekend'] = train['weekday'].apply(lambda x: 1 if x in [5, 6] else 0)\n",
        "test['is_weekend'] = test['weekday'].apply(lambda x: 1 if x in [5, 6] else 0)\n",
        "\n",
        "# 기존의 weekday 열 삭제\n",
        "train.drop(columns=['weekday'], inplace=True)\n",
        "test.drop(columns=['weekday'], inplace=True)\n",
        "\n",
        "# 결과 확인\n",
        "print(train.head())  # train 데이터에서 변경된 내용 확인"
      ]
    },
    {
      "cell_type": "code",
      "execution_count": null,
      "metadata": {
        "id": "XRyrdf2VOgkk"
      },
      "outputs": [],
      "source": [
        "# 월별 묶음에 따라 더미 변수로 인코딩\n",
        "def encode_month_group(month):\n",
        "    if month in [12, 1, 2]:\n",
        "        return 0\n",
        "    elif month in [3, 4, 5]:\n",
        "        return 1\n",
        "    elif month in [6, 7, 8]:\n",
        "        return 2\n",
        "    elif month in [9, 10, 11]:\n",
        "        return 3\n",
        "\n",
        "train['month_group'] = train['month'].apply(encode_month_group)\n",
        "test['month_group'] = test['month'].apply(encode_month_group)\n",
        "\n",
        "train.drop(columns=['month'], inplace=True)\n",
        "test.drop(columns=['month'], inplace=True)"
      ]
    },
    {
      "cell_type": "code",
      "execution_count": null,
      "metadata": {
        "id": "89FdQaijkwS1"
      },
      "outputs": [],
      "source": [
        "# SHIP_TYPE_CATEGORY에서, 컨테이너 여부로 변경\n",
        "# 'SHIP_TYPE_CATEGORY' 컬럼에서 'Container'인지 아닌지를 나타내는 더미 변수 생성\n",
        "train['IsContainer'] = (train['SHIP_TYPE_CATEGORY'] == 'Container').astype(int)\n",
        "test['IsContainer'] = (test['SHIP_TYPE_CATEGORY'] == 'Container').astype(int)\n",
        "\n",
        "# 기존 'SHIP_TYPE_CATEGORY' 컬럼 삭제\n",
        "train.drop(columns=['SHIP_TYPE_CATEGORY'], inplace=True)\n",
        "test.drop(columns=['SHIP_TYPE_CATEGORY'], inplace=True)"
      ]
    },
    {
      "cell_type": "code",
      "execution_count": null,
      "metadata": {
        "colab": {
          "base_uri": "https://localhost:8080/"
        },
        "id": "F-iBxmCGMyWM",
        "outputId": "80d25551-fc46-4990-a0de-eb85e42320bf"
      },
      "outputs": [
        {
          "name": "stdout",
          "output_type": "stream",
          "text": [
            "   ATA_LT_encoded\n",
            "0               1\n",
            "1               3\n",
            "2               1\n",
            "3               3\n",
            "4               3\n",
            "   ATA_LT_encoded\n",
            "0               4\n",
            "1               1\n",
            "2               2\n",
            "3               0\n",
            "4               2\n"
          ]
        }
      ],
      "source": [
        "import pandas as pd\n",
        "\n",
        "# ATA_LT 컬럼을 0~3, 4~7, 8~11, 12~15, 16~19, 20~23 범주로 인코딩하는 함수 정의\n",
        "def encode_ATA_LT(df):\n",
        "    bins = [-1, 3, 7, 11, 15, 19, 23]  # 범주를 정의합니다. 여기서 -1은 0~3 범주에 속하기 위한 임의의 값입니다.\n",
        "    labels = [0, 1, 2, 3, 4, 5]  # 각 범주에 할당할 레이블을 정의합니다.\n",
        "    df['ATA_LT_encoded'] = pd.cut(df['ATA_LT'], bins=bins, labels=labels, include_lowest=True)\n",
        "    df['ATA_LT_encoded'] = df['ATA_LT_encoded'].astype(int)  # 정수형으로 변환\n",
        "\n",
        "    # ATA_LT 컬럼 삭제\n",
        "    df.drop(columns=['ATA_LT'], inplace=True)\n",
        "\n",
        "    return df\n",
        "\n",
        "# train 데이터에 적용\n",
        "train = encode_ATA_LT(train)\n",
        "\n",
        "# test 데이터에 적용\n",
        "test = encode_ATA_LT(test)\n",
        "\n",
        "# 인코딩된 결과 확인\n",
        "print(train[['ATA_LT_encoded']].head())\n",
        "print(test[['ATA_LT_encoded']].head())\n"
      ]
    },
    {
      "cell_type": "markdown",
      "metadata": {
        "id": "lwwRp83Ae0vf"
      },
      "source": [
        "#### 표준화 / 이상치 제거"
      ]
    },
    {
      "cell_type": "code",
      "execution_count": null,
      "metadata": {
        "colab": {
          "base_uri": "https://localhost:8080/"
        },
        "id": "-KLN9EuufgXG",
        "outputId": "b0ef05fa-6886-486b-af2f-d569c5b150f7"
      },
      "outputs": [
        {
          "data": {
            "text/plain": [
              "(391938, 20)"
            ]
          },
          "execution_count": 369,
          "metadata": {},
          "output_type": "execute_result"
        }
      ],
      "source": [
        "train.head()\n",
        "train.shape"
      ]
    },
    {
      "cell_type": "code",
      "execution_count": null,
      "metadata": {
        "colab": {
          "base_uri": "https://localhost:8080/"
        },
        "id": "GtBHBTz-ov6M",
        "outputId": "205d0dad-bca2-4857-98d6-cd141d17b242"
      },
      "outputs": [
        {
          "data": {
            "text/plain": [
              "(220491, 19)"
            ]
          },
          "execution_count": 370,
          "metadata": {},
          "output_type": "execute_result"
        }
      ],
      "source": [
        "test.shape"
      ]
    },
    {
      "cell_type": "code",
      "execution_count": null,
      "metadata": {
        "colab": {
          "base_uri": "https://localhost:8080/"
        },
        "id": "PxkpCVKW_q7n",
        "outputId": "04e490f5-05f8-4547-990f-db33a59342c3"
      },
      "outputs": [
        {
          "data": {
            "text/plain": [
              "['DIST',\n",
              " 'BREADTH',\n",
              " 'BUILT',\n",
              " 'DEADWEIGHT',\n",
              " 'DEPTH',\n",
              " 'DRAUGHT',\n",
              " 'GT',\n",
              " 'LENGTH',\n",
              " 'U_WIND',\n",
              " 'V_WIND',\n",
              " 'AIR_TEMPERATURE',\n",
              " 'BN',\n",
              " 'PORT_SIZE',\n",
              " 'year']"
            ]
          },
          "execution_count": 371,
          "metadata": {},
          "output_type": "execute_result"
        }
      ],
      "source": [
        "numerical_columns = train.select_dtypes(include=['float64', 'int64']).columns\n",
        "numerical_columns = [col for col in numerical_columns if col not in ['IsContainer', 'ARI_PO','ATA_LT_encoded', 'year_encoded', 'month_group', 'is_weekend', 'CI_HOUR', 'weekday']]\n",
        "numerical_columns"
      ]
    },
    {
      "cell_type": "code",
      "execution_count": null,
      "metadata": {
        "colab": {
          "base_uri": "https://localhost:8080/"
        },
        "id": "v46y8xG_fnjT",
        "outputId": "cb05c786-9077-47dc-a40d-4abee547717c"
      },
      "outputs": [
        {
          "name": "stdout",
          "output_type": "stream",
          "text": [
            "   ARI_PO      DIST   BREADTH     BUILT  DEADWEIGHT     DEPTH   DRAUGHT  \\\n",
            "0      21  0.373513 -0.050197  1.313473   -0.618395 -1.071165 -0.236581   \n",
            "1      81 -0.624902 -0.050197 -0.248150   -0.435763 -1.071165 -0.236581   \n",
            "2      14 -0.624902  1.775111 -0.390115    1.297674  2.236850  1.937667   \n",
            "3     101 -0.624902 -0.962851  0.461679   -0.892187 -1.071165 -0.236581   \n",
            "4      21  0.249253  1.775111 -0.674047    0.825348  0.582843 -0.236581   \n",
            "\n",
            "         GT    LENGTH    U_WIND    V_WIND  AIR_TEMPERATURE        BN  \\\n",
            "0 -0.627131 -0.331094  0.196766  0.231603        -1.046955 -1.100904   \n",
            "1 -0.454123 -0.331094  0.196766  0.231603        -1.046955 -1.100904   \n",
            "2  2.509915  2.173065  0.196766  0.231603        -1.046955 -1.100904   \n",
            "3 -0.914630 -1.121880  0.483202  0.221278         0.382008  0.183860   \n",
            "4  1.405715  1.250480 -0.407687  0.118138         1.598012  0.305904   \n",
            "\n",
            "   PORT_SIZE     CI_HOUR      year  is_weekend  month_group  IsContainer  \\\n",
            "0   2.075830    3.450000 -0.448599           0            0            1   \n",
            "1  -0.787561    0.000000 -2.104909           0            3            0   \n",
            "2   0.880664    0.000000 -1.690832           0            0            1   \n",
            "3  -0.621042    0.000000  0.379556           0            0            1   \n",
            "4   2.075830  253.554444  0.379556           1            0            1   \n",
            "\n",
            "   ATA_LT_encoded  \n",
            "0               1  \n",
            "1               3  \n",
            "2               1  \n",
            "3               3  \n",
            "4               3  \n"
          ]
        }
      ],
      "source": [
        "from sklearn.preprocessing import StandardScaler\n",
        "\n",
        "scaler = StandardScaler()\n",
        "train[numerical_columns] = scaler.fit_transform(train[numerical_columns])\n",
        "\n",
        "# 전처리된 데이터 확인\n",
        "print(train.head())"
      ]
    },
    {
      "cell_type": "code",
      "execution_count": null,
      "metadata": {
        "colab": {
          "base_uri": "https://localhost:8080/"
        },
        "id": "l7LbDew-Qmo3",
        "outputId": "ffa12c29-2d5b-40ea-81f3-5a56801ed02d"
      },
      "outputs": [
        {
          "name": "stdout",
          "output_type": "stream",
          "text": [
            "ARI_PO               int64\n",
            "DIST               float64\n",
            "BREADTH            float64\n",
            "BUILT              float64\n",
            "DEADWEIGHT         float64\n",
            "DEPTH              float64\n",
            "DRAUGHT            float64\n",
            "GT                 float64\n",
            "LENGTH             float64\n",
            "U_WIND             float64\n",
            "V_WIND             float64\n",
            "AIR_TEMPERATURE    float64\n",
            "BN                 float64\n",
            "PORT_SIZE          float64\n",
            "CI_HOUR            float64\n",
            "year               float64\n",
            "is_weekend           int64\n",
            "month_group          int64\n",
            "IsContainer          int64\n",
            "ATA_LT_encoded       int64\n",
            "dtype: object\n"
          ]
        }
      ],
      "source": [
        "# 데이터프레임의 열 데이터 타입 확인\n",
        "print(train.dtypes)"
      ]
    },
    {
      "cell_type": "code",
      "execution_count": null,
      "metadata": {
        "colab": {
          "base_uri": "https://localhost:8080/"
        },
        "id": "2vEjwZBWgku6",
        "outputId": "8c170942-1dcd-4842-fd03-630e0899b934"
      },
      "outputs": [
        {
          "name": "stdout",
          "output_type": "stream",
          "text": [
            "   ARI_PO      DIST   BREADTH     BUILT  DEADWEIGHT     DEPTH   DRAUGHT  \\\n",
            "0      22 -0.565503  1.779669  0.460314    0.843680  2.240722  1.943187   \n",
            "1      91  0.197304 -1.876448 -0.247849   -0.940568 -1.070033 -0.235927   \n",
            "2      46  2.969879 -0.962419  1.593375   -0.828806 -1.070033 -0.235927   \n",
            "3      20 -0.327703 -0.048390 -0.814380   -0.121034  0.585344 -0.235927   \n",
            "4      67 -0.624611 -0.048390  0.601946   -0.373247  0.585344 -0.235927   \n",
            "\n",
            "         GT    LENGTH    U_WIND    V_WIND  AIR_TEMPERATURE        BN  \\\n",
            "0  1.728871  1.781464 -0.465505  0.125610         1.622636  0.305598   \n",
            "1 -0.987428 -1.648068  1.235607  0.026762         0.078906  0.938941   \n",
            "2 -0.837373 -0.856638 -0.655836  0.176851         0.369676  0.225836   \n",
            "3 -0.248893 -0.197113  0.163178  0.240549        -1.054089 -1.095124   \n",
            "4 -0.210614  0.198603  0.163178  0.240549        -1.054089 -1.095124   \n",
            "\n",
            "   PORT_SIZE  year  is_weekend  month_group  IsContainer  ATA_LT_encoded  \n",
            "0   2.072815   0.0           0            2            1               4  \n",
            "1   0.180054   0.0           0            1            0               1  \n",
            "2   1.032530   0.0           0            0            1               2  \n",
            "3  -0.828521   0.0           0            3            0               0  \n",
            "4  -0.387558   0.0           0            3            1               2  \n"
          ]
        }
      ],
      "source": [
        "test[numerical_columns] = scaler.fit_transform(test[numerical_columns])\n",
        "\n",
        "# 전처리된 데이터 확인\n",
        "print(test.head())"
      ]
    },
    {
      "cell_type": "code",
      "execution_count": null,
      "metadata": {
        "id": "V7qofs_wHyzp"
      },
      "outputs": [],
      "source": [
        "# # 이상치 제거 전의 데이터 개수 확인\n",
        "# original_data_size = train.shape[0]\n",
        "\n",
        "# # train 데이터에 대한 Z-score 계산 및 이상치 제거\n",
        "# z_scores_train = np.abs((train[numerical_columns] - train[numerical_columns].mean()) / train[numerical_columns].std())\n",
        "# train = train[(z_scores_train < 4).all(axis=1)]\n",
        "\n",
        "# # 이상치 제거 후의 데이터 개수 확인\n",
        "# processed_data_size = train.shape[0]\n",
        "\n",
        "# # 이상치 제거 전 후의 데이터 개수 차이 계산\n",
        "# data_size_difference = original_data_size - processed_data_size\n",
        "\n",
        "# print(\"이상치 제거 전 데이터 개수:\", original_data_size)\n",
        "# print(\"이상치 제거 후 데이터 개수:\", processed_data_size)\n",
        "# print(\"이상치 제거로 제거된 데이터 개수:\", data_size_difference)"
      ]
    },
    {
      "cell_type": "code",
      "execution_count": null,
      "metadata": {
        "id": "t9w-4r7pH8gh"
      },
      "outputs": [],
      "source": [
        "# # 이상치 제거 전의 데이터 개수 확인\n",
        "# original_data_size = train.shape[0]\n",
        "\n",
        "# # 'CI_HOUR'의 Z-score 계산\n",
        "# z_scores_ci_hour = (train['CI_HOUR'] - train['CI_HOUR'].mean()) / train['CI_HOUR'].std()\n",
        "\n",
        "# # Z-score가 3 이상인 행 제거\n",
        "# train = train[(np.abs(z_scores_ci_hour) < 4)]\n",
        "\n",
        "# # 이상치 제거 후의 데이터 개수 확인\n",
        "# processed_data_size = train.shape[0]\n",
        "\n",
        "# # 이상치 제거 전 후의 데이터 개수 차이 계산\n",
        "# data_size_difference = original_data_size - processed_data_size\n",
        "\n",
        "# print(\"이상치 제거 전 데이터 개수:\", original_data_size)\n",
        "# print(\"이상치 제거 후 데이터 개수:\", processed_data_size)\n",
        "# print(\"이상치 제거로 제거된 데이터 개수:\", data_size_difference)"
      ]
    },
    {
      "cell_type": "markdown",
      "metadata": {
        "id": "GBsRej6PnNIz"
      },
      "source": [
        "# 모델 학습"
      ]
    },
    {
      "cell_type": "markdown",
      "metadata": {
        "id": "xfyLwBg3LsAb"
      },
      "source": [
        "#### 베이스라인"
      ]
    },
    {
      "cell_type": "code",
      "execution_count": null,
      "metadata": {
        "id": "KQsKYVKylPEx"
      },
      "outputs": [],
      "source": [
        "# train 데이터프레임의 인덱스를 초기화하여 새로운 인덱스를 할당\n",
        "train.reset_index(drop=True, inplace=True)\n",
        "\n",
        "# test 데이터프레임의 인덱스를 초기화하여 새로운 인덱스를 할당\n",
        "test.reset_index(drop=True, inplace=True)"
      ]
    },
    {
      "cell_type": "code",
      "execution_count": null,
      "metadata": {
        "colab": {
          "base_uri": "https://localhost:8080/"
        },
        "id": "4llkBjUIk4BS",
        "outputId": "c05bf742-05ac-4ce5-ddb7-f9d604684fcf"
      },
      "outputs": [
        {
          "name": "stdout",
          "output_type": "stream",
          "text": [
            "Model Tune for LGBM.\n",
            "[LightGBM] [Info] Auto-choosing row-wise multi-threading, the overhead of testing was 0.040199 seconds.\n",
            "You can set `force_row_wise=true` to remove the overhead.\n",
            "And if memory is not enough, you can set `force_col_wise=true`.\n",
            "[LightGBM] [Info] Total Bins 1524\n",
            "[LightGBM] [Info] Number of data points in the train set: 391938, number of used features: 19\n",
            "[LightGBM] [Info] Start training from score 61.940993\n"
          ]
        },
        {
          "data": {
            "image/png": "[encoded data removed]",
            "text/plain": [
              "<Figure size 1000x1900 with 1 Axes>"
            ]
          },
          "metadata": {},
          "output_type": "display_data"
        }
      ],
      "source": [
        "def train_and_evaluate(model, model_name, X_train, y_train):\n",
        "    print(f'Model Tune for {model_name}.')\n",
        "    model.fit(X_train, y_train)\n",
        "\n",
        "    feature_importances = model.feature_importances_\n",
        "    sorted_idx = feature_importances.argsort()\n",
        "\n",
        "    plt.figure(figsize=(10, len(X_train.columns)))\n",
        "    plt.title(f\"Feature Importances ({model_name})\")\n",
        "    plt.barh(range(X_train.shape[1]), feature_importances[sorted_idx], align='center')\n",
        "    plt.yticks(range(X_train.shape[1]), X_train.columns[sorted_idx])\n",
        "    plt.xlabel('Importance')\n",
        "    plt.show()\n",
        "\n",
        "    return model, feature_importances\n",
        "\n",
        "X_train = train.drop(columns='CI_HOUR')\n",
        "y_train = train['CI_HOUR']\n",
        "\n",
        "# Model Tune for LGBM\n",
        "lgbm_model, lgbm_feature_importances = train_and_evaluate(lgb.LGBMRegressor(), 'LGBM', X_train, y_train)"
      ]
    },
    {
      "cell_type": "code",
      "execution_count": null,
      "metadata": {
        "id": "1iiCoCdGk5Iy"
      },
      "outputs": [],
      "source": [
        "threshold = 40 # Your Threshold\n",
        "low_importance_features = X_train.columns[lgbm_feature_importances < threshold]\n",
        "\n",
        "X_train_reduced = X_train.drop(columns=low_importance_features)\n",
        "X_test_reduced = test.drop(columns=low_importance_features)"
      ]
    },
    {
      "cell_type": "code",
      "execution_count": null,
      "metadata": {
        "colab": {
          "base_uri": "https://localhost:8080/"
        },
        "id": "COiz10e1lE13",
        "outputId": "73c7cc76-c07f-465f-b4e8-ca25b74e9822"
      },
      "outputs": [
        {
          "name": "stderr",
          "output_type": "stream",
          "text": [
            "\rProcessing folds:   0%|          | 0/5 [00:00<?, ?it/s]"
          ]
        },
        {
          "name": "stdout",
          "output_type": "stream",
          "text": [
            "[LightGBM] [Info] Auto-choosing row-wise multi-threading, the overhead of testing was 0.080905 seconds.\n",
            "You can set `force_row_wise=true` to remove the overhead.\n",
            "And if memory is not enough, you can set `force_col_wise=true`.\n",
            "[LightGBM] [Info] Total Bins 1509\n",
            "[LightGBM] [Info] Number of data points in the train set: 352744, number of used features: 16\n",
            "[LightGBM] [Info] Start training from score 61.987466\n"
          ]
        },
        {
          "name": "stderr",
          "output_type": "stream",
          "text": [
            "\rProcessing folds:  20%|██        | 1/5 [00:05<00:23,  5.97s/it]"
          ]
        },
        {
          "name": "stdout",
          "output_type": "stream",
          "text": [
            "[LightGBM] [Info] Auto-choosing row-wise multi-threading, the overhead of testing was 0.014833 seconds.\n",
            "You can set `force_row_wise=true` to remove the overhead.\n",
            "And if memory is not enough, you can set `force_col_wise=true`.\n",
            "[LightGBM] [Info] Total Bins 1508\n",
            "[LightGBM] [Info] Number of data points in the train set: 352744, number of used features: 16\n",
            "[LightGBM] [Info] Start training from score 61.992312\n"
          ]
        },
        {
          "name": "stderr",
          "output_type": "stream",
          "text": [
            "\rProcessing folds:  40%|████      | 2/5 [00:09<00:13,  4.58s/it]"
          ]
        },
        {
          "name": "stdout",
          "output_type": "stream",
          "text": [
            "[LightGBM] [Info] Auto-choosing row-wise multi-threading, the overhead of testing was 0.015548 seconds.\n",
            "You can set `force_row_wise=true` to remove the overhead.\n",
            "And if memory is not enough, you can set `force_col_wise=true`.\n",
            "[LightGBM] [Info] Total Bins 1508\n",
            "[LightGBM] [Info] Number of data points in the train set: 352744, number of used features: 16\n",
            "[LightGBM] [Info] Start training from score 61.882006\n"
          ]
        },
        {
          "name": "stderr",
          "output_type": "stream",
          "text": [
            "\rProcessing folds:  60%|██████    | 3/5 [00:13<00:08,  4.24s/it]"
          ]
        },
        {
          "name": "stdout",
          "output_type": "stream",
          "text": [
            "[LightGBM] [Info] Auto-choosing row-wise multi-threading, the overhead of testing was 0.014655 seconds.\n",
            "You can set `force_row_wise=true` to remove the overhead.\n",
            "And if memory is not enough, you can set `force_col_wise=true`.\n",
            "[LightGBM] [Info] Total Bins 1508\n",
            "[LightGBM] [Info] Number of data points in the train set: 352744, number of used features: 16\n",
            "[LightGBM] [Info] Start training from score 61.896651\n"
          ]
        },
        {
          "name": "stderr",
          "output_type": "stream",
          "text": [
            "\rProcessing folds:  80%|████████  | 4/5 [00:18<00:04,  4.46s/it]"
          ]
        },
        {
          "name": "stdout",
          "output_type": "stream",
          "text": [
            "[LightGBM] [Info] Auto-choosing row-wise multi-threading, the overhead of testing was 0.015679 seconds.\n",
            "You can set `force_row_wise=true` to remove the overhead.\n",
            "And if memory is not enough, you can set `force_col_wise=true`.\n",
            "[LightGBM] [Info] Total Bins 1508\n",
            "[LightGBM] [Info] Number of data points in the train set: 352744, number of used features: 16\n",
            "[LightGBM] [Info] Start training from score 61.904242\n"
          ]
        },
        {
          "name": "stderr",
          "output_type": "stream",
          "text": [
            "\rProcessing folds: 100%|██████████| 5/5 [00:21<00:00,  4.15s/it]"
          ]
        },
        {
          "name": "stdout",
          "output_type": "stream",
          "text": [
            "[LightGBM] [Info] Auto-choosing row-wise multi-threading, the overhead of testing was 0.014563 seconds.\n",
            "You can set `force_row_wise=true` to remove the overhead.\n",
            "And if memory is not enough, you can set `force_col_wise=true`.\n",
            "[LightGBM] [Info] Total Bins 1504\n",
            "[LightGBM] [Info] Number of data points in the train set: 352744, number of used features: 16\n",
            "[LightGBM] [Info] Start training from score 61.793767\n"
          ]
        },
        {
          "name": "stderr",
          "output_type": "stream",
          "text": [
            "\rProcessing folds: 6it [00:25,  3.99s/it]                       "
          ]
        },
        {
          "name": "stdout",
          "output_type": "stream",
          "text": [
            "[LightGBM] [Info] Auto-choosing row-wise multi-threading, the overhead of testing was 0.015579 seconds.\n",
            "You can set `force_row_wise=true` to remove the overhead.\n",
            "And if memory is not enough, you can set `force_col_wise=true`.\n",
            "[LightGBM] [Info] Total Bins 1510\n",
            "[LightGBM] [Info] Number of data points in the train set: 352744, number of used features: 16\n",
            "[LightGBM] [Info] Start training from score 62.289782\n"
          ]
        },
        {
          "name": "stderr",
          "output_type": "stream",
          "text": [
            "\rProcessing folds: 7it [00:29,  4.05s/it]"
          ]
        },
        {
          "name": "stdout",
          "output_type": "stream",
          "text": [
            "[LightGBM] [Info] Auto-choosing row-wise multi-threading, the overhead of testing was 0.026972 seconds.\n",
            "You can set `force_row_wise=true` to remove the overhead.\n",
            "And if memory is not enough, you can set `force_col_wise=true`.\n",
            "[LightGBM] [Info] Total Bins 1508\n",
            "[LightGBM] [Info] Number of data points in the train set: 352744, number of used features: 16\n",
            "[LightGBM] [Info] Start training from score 61.734948\n"
          ]
        },
        {
          "name": "stderr",
          "output_type": "stream",
          "text": [
            "\rProcessing folds: 8it [00:34,  4.16s/it]"
          ]
        },
        {
          "name": "stdout",
          "output_type": "stream",
          "text": [
            "[LightGBM] [Info] Auto-choosing row-wise multi-threading, the overhead of testing was 0.015252 seconds.\n",
            "You can set `force_row_wise=true` to remove the overhead.\n",
            "And if memory is not enough, you can set `force_col_wise=true`.\n",
            "[LightGBM] [Info] Total Bins 1507\n",
            "[LightGBM] [Info] Number of data points in the train set: 352745, number of used features: 16\n",
            "[LightGBM] [Info] Start training from score 61.892118\n"
          ]
        },
        {
          "name": "stderr",
          "output_type": "stream",
          "text": [
            "\rProcessing folds: 9it [00:37,  3.99s/it]"
          ]
        },
        {
          "name": "stdout",
          "output_type": "stream",
          "text": [
            "[LightGBM] [Info] Auto-choosing row-wise multi-threading, the overhead of testing was 0.014824 seconds.\n",
            "You can set `force_row_wise=true` to remove the overhead.\n",
            "And if memory is not enough, you can set `force_col_wise=true`.\n",
            "[LightGBM] [Info] Total Bins 1508\n",
            "[LightGBM] [Info] Number of data points in the train set: 352745, number of used features: 16\n",
            "[LightGBM] [Info] Start training from score 62.036633\n"
          ]
        },
        {
          "name": "stderr",
          "output_type": "stream",
          "text": [
            "Processing folds: 10it [00:41,  4.13s/it]"
          ]
        },
        {
          "name": "stdout",
          "output_type": "stream",
          "text": [
            "Validation : MAE scores for each fold: [55.65239839625213, 55.52492885908156, 56.56623404234628, 56.0722932243909, 56.2141258714308, 56.636918366524, 53.4227264836139, 57.234516128553594, 55.793516685574545, 55.25293115946052]\n",
            "Validation : MAE: 55.83705892172283\n"
          ]
        },
        {
          "name": "stderr",
          "output_type": "stream",
          "text": [
            "\n"
          ]
        }
      ],
      "source": [
        "lgbm = lgb.LGBMRegressor()\n",
        "\n",
        "# 5-Fold 설정\n",
        "kf = KFold(n_splits=10, shuffle=True, random_state=42)\n",
        "\n",
        "# 각 fold의 모델로부터의 예측을 저장할 리스트와 MAE 점수 리스트\n",
        "ensemble_predictions = []\n",
        "scores = []\n",
        "\n",
        "for train_idx, val_idx in tqdm(kf.split(X_train_reduced), total=5, desc=\"Processing folds\"):\n",
        "    X_t, X_val = X_train_reduced.iloc[train_idx], X_train_reduced.iloc[val_idx]\n",
        "    y_t, y_val = y_train[train_idx], y_train[val_idx]\n",
        "\n",
        "    # 두 모델 모두 학습\n",
        "    lgbm.fit(X_t, y_t)\n",
        "\n",
        "    # 각 모델로부터 Validation set에 대한 예측을 평균내어 앙상블 예측 생성\n",
        "    val_pred = lgbm.predict(X_val)\n",
        "\n",
        "    # Validation set에 대한 대회 평가 산식 계산 후 저장\n",
        "    scores.append(mean_absolute_error(y_val, val_pred))\n",
        "\n",
        "    # test 데이터셋에 대한 예측 수행 후 저장\n",
        "    lgbm_pred = lgbm.predict(X_test_reduced)\n",
        "    lgbm_pred = np.where(lgbm_pred < 0, 0, lgbm_pred)\n",
        "\n",
        "    ensemble_predictions.append(lgbm_pred)\n",
        "\n",
        "# K-fold 모든 예측의 평균을 계산하여 fold별 모델들의 앙상블 예측 생성\n",
        "final_predictions = np.mean(ensemble_predictions, axis=0)\n",
        "\n",
        "# 각 fold에서의 Validation Metric Score와 전체 평균 Validation Metric Score출력\n",
        "print(\"Validation : MAE scores for each fold:\", scores)\n",
        "print(\"Validation : MAE:\", np.mean(scores))"
      ]
    },
    {
      "cell_type": "markdown",
      "metadata": {
        "id": "pc4k4HmWqvPB"
      },
      "source": [
        "### 딥러닝"
      ]
    },
    {
      "cell_type": "code",
      "execution_count": null,
      "metadata": {
        "colab": {
          "base_uri": "https://localhost:8080/"
        },
        "id": "1GfLU2x0NBTX",
        "outputId": "fe8c4d4a-32e5-428d-c88d-374804efcb2f"
      },
      "outputs": [
        {
          "data": {
            "text/plain": [
              "391938"
            ]
          },
          "execution_count": 377,
          "metadata": {},
          "output_type": "execute_result"
        }
      ],
      "source": [
        "len(train)"
      ]
    },
    {
      "cell_type": "code",
      "execution_count": null,
      "metadata": {
        "colab": {
          "base_uri": "https://localhost:8080/"
        },
        "id": "tlsTAEyeNqpr",
        "outputId": "ecdcf859-bcad-4503-ee35-01f4fd8f308b"
      },
      "outputs": [
        {
          "data": {
            "text/plain": [
              "220491"
            ]
          },
          "execution_count": 378,
          "metadata": {},
          "output_type": "execute_result"
        }
      ],
      "source": [
        "len(test)"
      ]
    },
    {
      "cell_type": "code",
      "execution_count": null,
      "metadata": {
        "id": "V1nR2NPSnUwq"
      },
      "outputs": [],
      "source": [
        "# 목적 변수 추출\n",
        "X = train.drop(columns=['CI_HOUR'])\n",
        "y = train['CI_HOUR']"
      ]
    },
    {
      "cell_type": "code",
      "execution_count": null,
      "metadata": {
        "id": "k2vZYw6znOEU"
      },
      "outputs": [],
      "source": [
        "from tensorflow.keras.models import Sequential\n",
        "from tensorflow.keras.layers import Dense\n",
        "from tensorflow.keras.optimizers import Adam\n",
        "from tensorflow.keras.optimizers.schedules import ExponentialDecay\n",
        "\n",
        "\n",
        "# 딥러닝 모델 생성\n",
        "model = Sequential()\n",
        "model.add(Dense(128, activation='relu', input_shape=(X.shape[1],)))\n",
        "model.add(Dense(64, activation='relu'))\n",
        "model.add(Dense(1, activation='linear'))\n",
        "\n",
        "# Adam 옵티마이저와 학습률 스케줄러 설정\n",
        "initial_learning_rate = 0.001  # 초기 학습률\n",
        "lr_schedule = ExponentialDecay(initial_learning_rate, decay_steps=500000, decay_rate=0.5, staircase=True)\n",
        "\n",
        "optimizer = Adam(learning_rate=lr_schedule)\n",
        "\n",
        "# 모델 컴파일\n",
        "model.compile(loss='mean_absolute_error', optimizer=optimizer)"
      ]
    },
    {
      "cell_type": "code",
      "execution_count": null,
      "metadata": {
        "colab": {
          "base_uri": "https://localhost:8080/"
        },
        "id": "Ij5w29ApndKb",
        "outputId": "239fb979-9877-4068-b933-1673341ca511"
      },
      "outputs": [
        {
          "name": "stdout",
          "output_type": "stream",
          "text": [
            "Epoch 1/100\n",
            "2450/2450 [==============================] - 10s 4ms/step - loss: 51.6255 - val_loss: 49.3946\n",
            "Epoch 2/100\n",
            "2450/2450 [==============================] - 8s 3ms/step - loss: 49.7768 - val_loss: 49.2098\n",
            "Epoch 3/100\n",
            "2450/2450 [==============================] - 9s 4ms/step - loss: 49.4296 - val_loss: 48.7346\n",
            "Epoch 4/100\n",
            "2450/2450 [==============================] - 10s 4ms/step - loss: 49.1820 - val_loss: 48.6191\n",
            "Epoch 5/100\n",
            "2450/2450 [==============================] - 12s 5ms/step - loss: 48.9932 - val_loss: 48.5087\n",
            "Epoch 6/100\n",
            "2450/2450 [==============================] - 8s 3ms/step - loss: 48.8342 - val_loss: 48.2369\n",
            "Epoch 7/100\n",
            "2450/2450 [==============================] - 9s 4ms/step - loss: 48.7159 - val_loss: 48.1875\n",
            "Epoch 8/100\n",
            "2450/2450 [==============================] - 10s 4ms/step - loss: 48.6178 - val_loss: 48.0719\n",
            "Epoch 9/100\n",
            "2450/2450 [==============================] - 9s 3ms/step - loss: 48.4935 - val_loss: 48.2723\n",
            "Epoch 10/100\n",
            "2450/2450 [==============================] - 9s 4ms/step - loss: 48.4021 - val_loss: 48.0568\n",
            "Epoch 11/100\n",
            "2450/2450 [==============================] - 9s 4ms/step - loss: 48.2753 - val_loss: 47.9843\n",
            "Epoch 12/100\n",
            "2450/2450 [==============================] - 8s 3ms/step - loss: 48.1370 - val_loss: 47.6883\n",
            "Epoch 13/100\n",
            "2450/2450 [==============================] - 9s 4ms/step - loss: 47.9782 - val_loss: 47.5347\n",
            "Epoch 14/100\n",
            "2450/2450 [==============================] - 9s 4ms/step - loss: 47.7835 - val_loss: 47.3929\n",
            "Epoch 15/100\n",
            "2450/2450 [==============================] - 8s 3ms/step - loss: 47.5328 - val_loss: 47.2190\n",
            "Epoch 16/100\n",
            "2450/2450 [==============================] - 9s 4ms/step - loss: 47.3450 - val_loss: 47.0741\n",
            "Epoch 17/100\n",
            "2450/2450 [==============================] - 10s 4ms/step - loss: 47.1978 - val_loss: 47.0585\n",
            "Epoch 18/100\n",
            "2450/2450 [==============================] - 8s 3ms/step - loss: 47.1125 - val_loss: 47.1762\n",
            "Epoch 19/100\n",
            "2450/2450 [==============================] - 9s 4ms/step - loss: 47.0363 - val_loss: 47.0491\n",
            "Epoch 20/100\n",
            "2450/2450 [==============================] - 9s 4ms/step - loss: 46.9718 - val_loss: 46.7172\n",
            "Epoch 21/100\n",
            "2450/2450 [==============================] - 8s 3ms/step - loss: 46.9053 - val_loss: 46.7429\n",
            "Epoch 22/100\n",
            "2450/2450 [==============================] - 9s 4ms/step - loss: 46.8835 - val_loss: 46.7366\n",
            "Epoch 23/100\n",
            "2450/2450 [==============================] - 9s 4ms/step - loss: 46.8285 - val_loss: 46.8481\n",
            "Epoch 24/100\n",
            "2450/2450 [==============================] - 8s 3ms/step - loss: 46.7992 - val_loss: 46.6392\n",
            "Epoch 25/100\n",
            "2450/2450 [==============================] - 9s 4ms/step - loss: 46.7400 - val_loss: 46.7261\n",
            "Epoch 26/100\n",
            "2450/2450 [==============================] - 9s 4ms/step - loss: 46.7008 - val_loss: 46.6808\n",
            "Epoch 27/100\n",
            "2450/2450 [==============================] - 8s 3ms/step - loss: 46.6673 - val_loss: 46.5698\n",
            "Epoch 28/100\n",
            "2450/2450 [==============================] - 9s 4ms/step - loss: 46.6210 - val_loss: 46.6000\n",
            "Epoch 29/100\n",
            "2450/2450 [==============================] - 9s 4ms/step - loss: 46.5872 - val_loss: 46.7715\n",
            "Epoch 30/100\n",
            "2450/2450 [==============================] - 10s 4ms/step - loss: 46.5525 - val_loss: 46.4231\n",
            "Epoch 31/100\n",
            "2450/2450 [==============================] - 8s 3ms/step - loss: 46.5314 - val_loss: 46.4787\n",
            "Epoch 32/100\n",
            "2450/2450 [==============================] - 9s 4ms/step - loss: 46.4957 - val_loss: 46.6243\n",
            "Epoch 33/100\n",
            "2450/2450 [==============================] - 9s 4ms/step - loss: 46.4521 - val_loss: 46.4432\n",
            "Epoch 34/100\n",
            "2450/2450 [==============================] - 8s 3ms/step - loss: 46.4521 - val_loss: 46.3922\n",
            "Epoch 35/100\n",
            "2450/2450 [==============================] - 9s 4ms/step - loss: 46.4014 - val_loss: 46.6436\n",
            "Epoch 36/100\n",
            "2450/2450 [==============================] - 9s 4ms/step - loss: 46.3762 - val_loss: 46.6099\n",
            "Epoch 37/100\n",
            "2450/2450 [==============================] - 8s 3ms/step - loss: 46.3518 - val_loss: 46.5312\n",
            "Epoch 38/100\n",
            "2450/2450 [==============================] - 9s 4ms/step - loss: 46.3459 - val_loss: 46.4691\n",
            "Epoch 39/100\n",
            "2450/2450 [==============================] - 9s 4ms/step - loss: 46.2968 - val_loss: 46.5145\n",
            "Epoch 40/100\n",
            "2450/2450 [==============================] - 8s 3ms/step - loss: 46.2818 - val_loss: 46.3268\n",
            "Epoch 41/100\n",
            "2450/2450 [==============================] - 9s 4ms/step - loss: 46.2671 - val_loss: 46.4724\n",
            "Epoch 42/100\n",
            "2450/2450 [==============================] - 9s 4ms/step - loss: 46.2236 - val_loss: 46.2881\n",
            "Epoch 43/100\n",
            "2450/2450 [==============================] - 9s 4ms/step - loss: 46.2108 - val_loss: 46.3990\n",
            "Epoch 44/100\n",
            "2450/2450 [==============================] - 9s 4ms/step - loss: 46.1750 - val_loss: 46.2528\n",
            "Epoch 45/100\n",
            "2450/2450 [==============================] - 9s 4ms/step - loss: 46.1419 - val_loss: 46.3224\n",
            "Epoch 46/100\n",
            "2450/2450 [==============================] - 9s 4ms/step - loss: 46.1269 - val_loss: 46.3927\n",
            "Epoch 47/100\n",
            "2450/2450 [==============================] - 8s 3ms/step - loss: 46.1253 - val_loss: 46.2361\n",
            "Epoch 48/100\n",
            "2450/2450 [==============================] - 9s 4ms/step - loss: 46.0920 - val_loss: 46.2005\n",
            "Epoch 49/100\n",
            "2450/2450 [==============================] - 9s 4ms/step - loss: 46.0811 - val_loss: 46.3246\n",
            "Epoch 50/100\n",
            "2450/2450 [==============================] - 8s 3ms/step - loss: 46.0453 - val_loss: 46.1463\n",
            "Epoch 51/100\n",
            "2450/2450 [==============================] - 9s 4ms/step - loss: 46.0365 - val_loss: 46.2191\n",
            "Epoch 52/100\n",
            "2450/2450 [==============================] - 9s 4ms/step - loss: 46.0311 - val_loss: 46.3942\n",
            "Epoch 53/100\n",
            "2450/2450 [==============================] - 8s 3ms/step - loss: 45.9894 - val_loss: 46.1490\n",
            "Epoch 54/100\n",
            "2450/2450 [==============================] - 9s 4ms/step - loss: 45.9686 - val_loss: 46.3561\n",
            "Epoch 55/100\n",
            "2450/2450 [==============================] - 9s 4ms/step - loss: 45.9587 - val_loss: 46.2508\n",
            "Epoch 56/100\n",
            "2450/2450 [==============================] - 10s 4ms/step - loss: 45.9694 - val_loss: 46.2259\n",
            "Epoch 57/100\n",
            "2450/2450 [==============================] - 8s 3ms/step - loss: 45.9272 - val_loss: 46.2022\n",
            "Epoch 58/100\n",
            "2450/2450 [==============================] - 9s 4ms/step - loss: 45.8942 - val_loss: 46.1885\n",
            "Epoch 59/100\n",
            "2450/2450 [==============================] - 9s 4ms/step - loss: 45.8922 - val_loss: 46.1171\n",
            "Epoch 60/100\n",
            "2450/2450 [==============================] - 8s 3ms/step - loss: 45.8693 - val_loss: 46.0998\n",
            "Epoch 61/100\n",
            "2450/2450 [==============================] - 9s 4ms/step - loss: 45.8474 - val_loss: 46.1511\n",
            "Epoch 62/100\n",
            "2450/2450 [==============================] - 9s 4ms/step - loss: 45.8135 - val_loss: 46.1027\n",
            "Epoch 63/100\n",
            "2450/2450 [==============================] - 10s 4ms/step - loss: 45.7990 - val_loss: 46.0600\n",
            "Epoch 64/100\n",
            "2450/2450 [==============================] - 8s 3ms/step - loss: 45.8334 - val_loss: 46.2707\n",
            "Epoch 65/100\n",
            "2450/2450 [==============================] - 9s 4ms/step - loss: 45.7982 - val_loss: 46.1697\n",
            "Epoch 66/100\n",
            "2450/2450 [==============================] - 9s 4ms/step - loss: 45.7532 - val_loss: 46.0016\n",
            "Epoch 67/100\n",
            "2450/2450 [==============================] - 8s 3ms/step - loss: 45.7700 - val_loss: 46.1364\n",
            "Epoch 68/100\n",
            "2450/2450 [==============================] - 9s 4ms/step - loss: 45.7362 - val_loss: 46.1485\n",
            "Epoch 69/100\n",
            "2450/2450 [==============================] - 9s 4ms/step - loss: 45.7115 - val_loss: 46.1591\n",
            "Epoch 70/100\n",
            "2450/2450 [==============================] - 8s 3ms/step - loss: 45.7204 - val_loss: 46.2053\n",
            "Epoch 71/100\n",
            "2450/2450 [==============================] - 9s 4ms/step - loss: 45.6576 - val_loss: 46.1474\n",
            "Epoch 72/100\n",
            "2450/2450 [==============================] - 9s 4ms/step - loss: 45.6598 - val_loss: 46.1057\n",
            "Epoch 73/100\n",
            "2450/2450 [==============================] - 10s 4ms/step - loss: 45.6632 - val_loss: 46.1725\n",
            "Epoch 74/100\n",
            "2450/2450 [==============================] - 8s 3ms/step - loss: 45.6201 - val_loss: 46.1960\n",
            "Epoch 75/100\n",
            "2450/2450 [==============================] - 9s 4ms/step - loss: 45.6337 - val_loss: 45.9250\n",
            "Epoch 76/100\n",
            "2450/2450 [==============================] - 9s 4ms/step - loss: 45.5889 - val_loss: 46.1378\n",
            "Epoch 77/100\n",
            "2450/2450 [==============================] - 9s 4ms/step - loss: 45.6122 - val_loss: 46.0714\n",
            "Epoch 78/100\n",
            "2450/2450 [==============================] - 9s 4ms/step - loss: 45.5961 - val_loss: 45.9470\n",
            "Epoch 79/100\n",
            "2450/2450 [==============================] - 9s 4ms/step - loss: 45.5770 - val_loss: 45.9456\n",
            "Epoch 80/100\n",
            "2450/2450 [==============================] - 8s 3ms/step - loss: 45.5518 - val_loss: 46.0066\n",
            "Epoch 81/100\n",
            "2450/2450 [==============================] - 9s 4ms/step - loss: 45.5379 - val_loss: 46.1459\n",
            "Epoch 82/100\n",
            "2450/2450 [==============================] - 9s 4ms/step - loss: 45.5401 - val_loss: 46.3874\n",
            "Epoch 83/100\n",
            "2450/2450 [==============================] - 8s 3ms/step - loss: 45.5036 - val_loss: 46.0648\n",
            "Epoch 84/100\n",
            "2450/2450 [==============================] - 9s 4ms/step - loss: 45.4854 - val_loss: 46.0515\n",
            "Epoch 85/100\n",
            "2450/2450 [==============================] - 9s 4ms/step - loss: 45.4565 - val_loss: 46.0936\n",
            "Epoch 86/100\n",
            "2450/2450 [==============================] - 9s 4ms/step - loss: 45.4725 - val_loss: 46.0610\n",
            "Epoch 87/100\n",
            "2450/2450 [==============================] - 9s 3ms/step - loss: 45.4602 - val_loss: 45.9563\n",
            "Epoch 88/100\n",
            "2450/2450 [==============================] - 9s 4ms/step - loss: 45.4391 - val_loss: 46.0533\n",
            "Epoch 89/100\n",
            "2450/2450 [==============================] - 9s 4ms/step - loss: 45.4353 - val_loss: 46.0350\n",
            "Epoch 90/100\n",
            "2450/2450 [==============================] - 8s 3ms/step - loss: 45.4245 - val_loss: 45.9018\n",
            "Epoch 91/100\n",
            "2450/2450 [==============================] - 9s 4ms/step - loss: 45.4031 - val_loss: 46.0797\n",
            "Epoch 92/100\n",
            "2450/2450 [==============================] - 9s 4ms/step - loss: 45.3811 - val_loss: 46.5378\n",
            "Epoch 93/100\n",
            "2450/2450 [==============================] - 8s 3ms/step - loss: 45.3807 - val_loss: 45.9687\n",
            "Epoch 94/100\n",
            "2450/2450 [==============================] - 9s 4ms/step - loss: 45.3811 - val_loss: 46.1585\n",
            "Epoch 95/100\n",
            "2450/2450 [==============================] - 9s 4ms/step - loss: 45.3766 - val_loss: 46.0220\n",
            "Epoch 96/100\n",
            "2450/2450 [==============================] - 8s 3ms/step - loss: 45.3581 - val_loss: 46.2196\n",
            "Epoch 97/100\n",
            "2450/2450 [==============================] - 9s 4ms/step - loss: 45.3329 - val_loss: 45.9922\n",
            "Epoch 98/100\n",
            "2450/2450 [==============================] - 9s 4ms/step - loss: 45.3324 - val_loss: 45.9911\n",
            "Epoch 99/100\n",
            "2450/2450 [==============================] - 8s 3ms/step - loss: 45.3106 - val_loss: 46.2740\n",
            "Epoch 100/100\n",
            "2450/2450 [==============================] - 9s 4ms/step - loss: 45.2868 - val_loss: 46.0033\n"
          ]
        }
      ],
      "source": [
        "from sklearn.model_selection import train_test_split\n",
        "\n",
        "# 훈련 데이터와 검증 데이터로 분리\n",
        "X_train, X_val, y_train, y_val = train_test_split(X, y, test_size=0.2, random_state=42)\n",
        "\n",
        "# 모델 훈련\n",
        "history = model.fit(X_train, y_train, epochs=100, batch_size=128, validation_data=(X_val, y_val))"
      ]
    },
    {
      "cell_type": "code",
      "execution_count": null,
      "metadata": {
        "colab": {
          "base_uri": "https://localhost:8080/"
        },
        "id": "cp6H2rKcHwN8",
        "outputId": "069d40b3-c050-47f6-a7a6-c14b807f77ff"
      },
      "outputs": [
        {
          "data": {
            "image/png": "[encoded data removed]",
            "text/plain": [
              "<Figure size 1000x600 with 1 Axes>"
            ]
          },
          "metadata": {},
          "output_type": "display_data"
        }
      ],
      "source": [
        "import matplotlib.pyplot as plt\n",
        "\n",
        "# 훈련 과정에서의 로스 값\n",
        "train_loss = history.history['loss']\n",
        "\n",
        "# 검증 과정에서의 로스 값\n",
        "val_loss = history.history['val_loss']\n",
        "\n",
        "# 에폭 수\n",
        "epochs = range(1, len(train_loss) + 1)\n",
        "\n",
        "# 훈련 로스와 검증 로스 시각화\n",
        "plt.figure(figsize=(10, 6))\n",
        "plt.plot(epochs, train_loss, 'bo', label='Training Loss')\n",
        "plt.plot(epochs, val_loss, 'b', label='Validation Loss')\n",
        "plt.title('Training and Validation Loss')\n",
        "plt.xlabel('Epochs')\n",
        "plt.ylabel('Loss')\n",
        "plt.legend()\n",
        "plt.show()"
      ]
    },
    {
      "cell_type": "code",
      "execution_count": null,
      "metadata": {
        "colab": {
          "base_uri": "https://localhost:8080/"
        },
        "id": "2xECQ9RXaRlb",
        "outputId": "e7aead8e-f508-4dd8-9186-78ed250c8ee8"
      },
      "outputs": [
        {
          "name": "stdout",
          "output_type": "stream",
          "text": [
            "Epoch 1/100\n",
            "4900/4900 [==============================] - 29s 6ms/step - loss: 45.6011 - val_loss: 46.0904\n",
            "Epoch 2/100\n",
            "4900/4900 [==============================] - 18s 4ms/step - loss: 45.5259 - val_loss: 46.1591\n",
            "Epoch 3/100\n",
            "4900/4900 [==============================] - 17s 4ms/step - loss: 45.5486 - val_loss: 46.4606\n",
            "Epoch 4/100\n",
            "4900/4900 [==============================] - 18s 4ms/step - loss: 45.5495 - val_loss: 46.2894\n",
            "Epoch 5/100\n",
            "4900/4900 [==============================] - 18s 4ms/step - loss: 45.5088 - val_loss: 46.2100\n",
            "Epoch 6/100\n",
            "4900/4900 [==============================] - 18s 4ms/step - loss: 45.5313 - val_loss: 46.0597\n",
            "Epoch 7/100\n",
            "4900/4900 [==============================] - 17s 3ms/step - loss: 45.5187 - val_loss: 45.9996\n",
            "Epoch 8/100\n",
            "4900/4900 [==============================] - 17s 3ms/step - loss: 45.4887 - val_loss: 46.0792\n",
            "Epoch 9/100\n",
            "4900/4900 [==============================] - 18s 4ms/step - loss: 45.4590 - val_loss: 46.5453\n",
            "Epoch 10/100\n",
            "4900/4900 [==============================] - 17s 3ms/step - loss: 45.4692 - val_loss: 46.0922\n",
            "Epoch 11/100\n",
            "4900/4900 [==============================] - 17s 3ms/step - loss: 45.4517 - val_loss: 46.1619\n",
            "Epoch 12/100\n",
            "4900/4900 [==============================] - 18s 4ms/step - loss: 45.4472 - val_loss: 46.0772\n",
            "Epoch 13/100\n",
            "4900/4900 [==============================] - 18s 4ms/step - loss: 45.4298 - val_loss: 46.5667\n",
            "Epoch 14/100\n",
            "4900/4900 [==============================] - 17s 3ms/step - loss: 45.3858 - val_loss: 46.1668\n",
            "Epoch 15/100\n",
            "4900/4900 [==============================] - 17s 3ms/step - loss: 45.4258 - val_loss: 46.0296\n",
            "Epoch 16/100\n",
            "4900/4900 [==============================] - 18s 4ms/step - loss: 45.3842 - val_loss: 46.0812\n",
            "Epoch 17/100\n",
            "4900/4900 [==============================] - 18s 4ms/step - loss: 45.3771 - val_loss: 46.0056\n",
            "Epoch 18/100\n",
            "4900/4900 [==============================] - 17s 4ms/step - loss: 45.3656 - val_loss: 46.0570\n",
            "Epoch 19/100\n",
            "4900/4900 [==============================] - 18s 4ms/step - loss: 45.3546 - val_loss: 46.1857\n",
            "Epoch 20/100\n",
            "4900/4900 [==============================] - 17s 4ms/step - loss: 45.3431 - val_loss: 46.0488\n",
            "Epoch 21/100\n",
            "4900/4900 [==============================] - 17s 3ms/step - loss: 45.3234 - val_loss: 46.3591\n",
            "Epoch 22/100\n",
            "4900/4900 [==============================] - 17s 3ms/step - loss: 45.3251 - val_loss: 46.0328\n",
            "Epoch 23/100\n",
            "4900/4900 [==============================] - 21s 4ms/step - loss: 45.3096 - val_loss: 46.1899\n",
            "Epoch 24/100\n",
            "4900/4900 [==============================] - 17s 3ms/step - loss: 45.2956 - val_loss: 46.4523\n",
            "Epoch 25/100\n",
            "4900/4900 [==============================] - 17s 4ms/step - loss: 45.2691 - val_loss: 46.0765\n",
            "Epoch 26/100\n",
            "4900/4900 [==============================] - 18s 4ms/step - loss: 45.2767 - val_loss: 46.0086\n",
            "Epoch 27/100\n",
            "4900/4900 [==============================] - 17s 3ms/step - loss: 45.2521 - val_loss: 46.0469\n",
            "Epoch 28/100\n",
            "4900/4900 [==============================] - 17s 3ms/step - loss: 45.2408 - val_loss: 46.1030\n",
            "Epoch 29/100\n",
            "4900/4900 [==============================] - 20s 4ms/step - loss: 45.2519 - val_loss: 46.0379\n",
            "Epoch 30/100\n",
            "4900/4900 [==============================] - 17s 3ms/step - loss: 45.2011 - val_loss: 45.9284\n",
            "Epoch 31/100\n",
            "4900/4900 [==============================] - 18s 4ms/step - loss: 45.2419 - val_loss: 45.9459\n",
            "Epoch 32/100\n",
            "4900/4900 [==============================] - 18s 4ms/step - loss: 45.1984 - val_loss: 46.0653\n",
            "Epoch 33/100\n",
            "4900/4900 [==============================] - 17s 3ms/step - loss: 45.1873 - val_loss: 46.1147\n",
            "Epoch 34/100\n",
            "4900/4900 [==============================] - 17s 3ms/step - loss: 45.1893 - val_loss: 46.1499\n",
            "Epoch 35/100\n",
            "4900/4900 [==============================] - 17s 3ms/step - loss: 45.1451 - val_loss: 46.0744\n",
            "Epoch 36/100\n",
            "4900/4900 [==============================] - 18s 4ms/step - loss: 45.1475 - val_loss: 45.9977\n",
            "Epoch 37/100\n",
            "4900/4900 [==============================] - 17s 3ms/step - loss: 45.1592 - val_loss: 46.1613\n",
            "Epoch 38/100\n",
            "4900/4900 [==============================] - 17s 4ms/step - loss: 45.1201 - val_loss: 45.8792\n",
            "Epoch 39/100\n",
            "4900/4900 [==============================] - 18s 4ms/step - loss: 45.1006 - val_loss: 46.2000\n",
            "Epoch 40/100\n",
            "4900/4900 [==============================] - 18s 4ms/step - loss: 45.1206 - val_loss: 45.9390\n",
            "Epoch 41/100\n",
            "4900/4900 [==============================] - 17s 3ms/step - loss: 45.1070 - val_loss: 45.9723\n",
            "Epoch 42/100\n",
            "4900/4900 [==============================] - 17s 4ms/step - loss: 45.0709 - val_loss: 46.0317\n",
            "Epoch 43/100\n",
            "4900/4900 [==============================] - 17s 4ms/step - loss: 45.1109 - val_loss: 46.0289\n",
            "Epoch 44/100\n",
            "4900/4900 [==============================] - 17s 4ms/step - loss: 45.0605 - val_loss: 45.9239\n",
            "Epoch 45/100\n",
            "4900/4900 [==============================] - 17s 3ms/step - loss: 45.0640 - val_loss: 45.9622\n",
            "Epoch 46/100\n",
            "4900/4900 [==============================] - 18s 4ms/step - loss: 45.0541 - val_loss: 45.9620\n",
            "Epoch 47/100\n",
            "4900/4900 [==============================] - 18s 4ms/step - loss: 45.0394 - val_loss: 45.9963\n",
            "Epoch 48/100\n",
            "4900/4900 [==============================] - 17s 3ms/step - loss: 45.0364 - val_loss: 46.0928\n",
            "Epoch 49/100\n",
            "4900/4900 [==============================] - 17s 3ms/step - loss: 45.0248 - val_loss: 45.9226\n",
            "Epoch 50/100\n",
            "4900/4900 [==============================] - 18s 4ms/step - loss: 45.0131 - val_loss: 45.9051\n",
            "Epoch 51/100\n",
            "4900/4900 [==============================] - 18s 4ms/step - loss: 44.9829 - val_loss: 45.9227\n",
            "Epoch 52/100\n",
            "4900/4900 [==============================] - 17s 3ms/step - loss: 44.9687 - val_loss: 46.0977\n",
            "Epoch 53/100\n",
            "4900/4900 [==============================] - 20s 4ms/step - loss: 44.6284 - val_loss: 45.7325\n",
            "Epoch 54/100\n",
            "4900/4900 [==============================] - 17s 3ms/step - loss: 44.5497 - val_loss: 45.9757\n",
            "Epoch 55/100\n",
            "4900/4900 [==============================] - 18s 4ms/step - loss: 44.5178 - val_loss: 45.7468\n",
            "Epoch 56/100\n",
            "4900/4900 [==============================] - 18s 4ms/step - loss: 44.5482 - val_loss: 45.7581\n",
            "Epoch 57/100\n",
            "4900/4900 [==============================] - 18s 4ms/step - loss: 44.4857 - val_loss: 45.8460\n",
            "Epoch 58/100\n",
            "4900/4900 [==============================] - 18s 4ms/step - loss: 44.5029 - val_loss: 45.7423\n",
            "Epoch 59/100\n",
            "4900/4900 [==============================] - 18s 4ms/step - loss: 44.5048 - val_loss: 45.8080\n",
            "Epoch 60/100\n",
            "4900/4900 [==============================] - 18s 4ms/step - loss: 44.4729 - val_loss: 45.7381\n",
            "Epoch 61/100\n",
            "4900/4900 [==============================] - 18s 4ms/step - loss: 44.4597 - val_loss: 45.7763\n",
            "Epoch 62/100\n",
            "4900/4900 [==============================] - 19s 4ms/step - loss: 44.4523 - val_loss: 45.7158\n",
            "Epoch 63/100\n",
            "4900/4900 [==============================] - 17s 4ms/step - loss: 44.4624 - val_loss: 45.6803\n",
            "Epoch 64/100\n",
            "4900/4900 [==============================] - 18s 4ms/step - loss: 44.4443 - val_loss: 45.7772\n",
            "Epoch 65/100\n",
            "4900/4900 [==============================] - 18s 4ms/step - loss: 44.4412 - val_loss: 45.7467\n",
            "Epoch 66/100\n",
            "4900/4900 [==============================] - 18s 4ms/step - loss: 44.4303 - val_loss: 45.6745\n",
            "Epoch 67/100\n",
            "4900/4900 [==============================] - 18s 4ms/step - loss: 44.4226 - val_loss: 45.7015\n",
            "Epoch 68/100\n",
            "4900/4900 [==============================] - 20s 4ms/step - loss: 44.4118 - val_loss: 45.8355\n",
            "Epoch 69/100\n",
            "4900/4900 [==============================] - 17s 4ms/step - loss: 44.4112 - val_loss: 45.7543\n",
            "Epoch 70/100\n",
            "4900/4900 [==============================] - 17s 4ms/step - loss: 44.3956 - val_loss: 45.6972\n",
            "Epoch 71/100\n",
            "4900/4900 [==============================] - 20s 4ms/step - loss: 44.3755 - val_loss: 45.7417\n",
            "Epoch 72/100\n",
            "4900/4900 [==============================] - 18s 4ms/step - loss: 44.3926 - val_loss: 45.7332\n",
            "Epoch 73/100\n",
            "4900/4900 [==============================] - 18s 4ms/step - loss: 44.3831 - val_loss: 45.7216\n",
            "Epoch 74/100\n",
            "4900/4900 [==============================] - 18s 4ms/step - loss: 44.3621 - val_loss: 45.6858\n",
            "Epoch 75/100\n",
            "4900/4900 [==============================] - 17s 3ms/step - loss: 44.3568 - val_loss: 45.7078\n",
            "Epoch 76/100\n",
            "4900/4900 [==============================] - 17s 3ms/step - loss: 44.3592 - val_loss: 45.7351\n",
            "Epoch 77/100\n",
            "4900/4900 [==============================] - 18s 4ms/step - loss: 44.3586 - val_loss: 45.7094\n",
            "Epoch 78/100\n",
            "4900/4900 [==============================] - 18s 4ms/step - loss: 44.3471 - val_loss: 45.7077\n",
            "Epoch 79/100\n",
            "4900/4900 [==============================] - 17s 3ms/step - loss: 44.3320 - val_loss: 45.7341\n",
            "Epoch 80/100\n",
            "4900/4900 [==============================] - 18s 4ms/step - loss: 44.3440 - val_loss: 45.7173\n",
            "Epoch 81/100\n",
            "4900/4900 [==============================] - 17s 4ms/step - loss: 44.3309 - val_loss: 45.6969\n",
            "Epoch 82/100\n",
            "4900/4900 [==============================] - 18s 4ms/step - loss: 44.3341 - val_loss: 45.7794\n",
            "Epoch 83/100\n",
            "4900/4900 [==============================] - 18s 4ms/step - loss: 44.3196 - val_loss: 45.7236\n",
            "Epoch 84/100\n",
            "4900/4900 [==============================] - 18s 4ms/step - loss: 44.3172 - val_loss: 45.7109\n",
            "Epoch 85/100\n",
            "4900/4900 [==============================] - 17s 3ms/step - loss: 44.2976 - val_loss: 45.6903\n",
            "Epoch 86/100\n",
            "4900/4900 [==============================] - 18s 4ms/step - loss: 44.3080 - val_loss: 45.6889\n",
            "Epoch 87/100\n",
            "4900/4900 [==============================] - 18s 4ms/step - loss: 44.2930 - val_loss: 45.7551\n",
            "Epoch 88/100\n",
            "4900/4900 [==============================] - 17s 3ms/step - loss: 44.2916 - val_loss: 45.6777\n",
            "Epoch 89/100\n",
            "4900/4900 [==============================] - 17s 3ms/step - loss: 44.3038 - val_loss: 45.6951\n",
            "Epoch 90/100\n",
            "4900/4900 [==============================] - 18s 4ms/step - loss: 44.2906 - val_loss: 45.7422\n",
            "Epoch 91/100\n",
            "4900/4900 [==============================] - 18s 4ms/step - loss: 44.2834 - val_loss: 45.7533\n",
            "Epoch 92/100\n",
            "4900/4900 [==============================] - 18s 4ms/step - loss: 44.2614 - val_loss: 45.8001\n",
            "Epoch 93/100\n",
            "4900/4900 [==============================] - 17s 4ms/step - loss: 44.2715 - val_loss: 45.6666\n",
            "Epoch 94/100\n",
            "4900/4900 [==============================] - 18s 4ms/step - loss: 44.2636 - val_loss: 45.7213\n",
            "Epoch 95/100\n",
            "4900/4900 [==============================] - 17s 4ms/step - loss: 44.2721 - val_loss: 45.9592\n",
            "Epoch 96/100\n",
            "4900/4900 [==============================] - 18s 4ms/step - loss: 44.2402 - val_loss: 45.7763\n",
            "Epoch 97/100\n",
            "4900/4900 [==============================] - 21s 4ms/step - loss: 44.2526 - val_loss: 45.8108\n",
            "Epoch 98/100\n",
            "4900/4900 [==============================] - 18s 4ms/step - loss: 44.2465 - val_loss: 45.7302\n",
            "Epoch 99/100\n",
            "4900/4900 [==============================] - 17s 4ms/step - loss: 44.2486 - val_loss: 45.8774\n",
            "Epoch 100/100\n",
            "4900/4900 [==============================] - 18s 4ms/step - loss: 44.2252 - val_loss: 45.7498\n"
          ]
        }
      ],
      "source": [
        "history = model.fit(X_train, y_train, epochs=100, batch_size=64, validation_data=(X_val, y_val))"
      ]
    },
    {
      "cell_type": "code",
      "execution_count": null,
      "metadata": {
        "colab": {
          "base_uri": "https://localhost:8080/"
        },
        "id": "N24_FByradK5",
        "outputId": "9db96565-1470-4a08-d78f-90432ddb11f9"
      },
      "outputs": [
        {
          "data": {
            "image/png": "[encoded data removed]",
            "text/plain": [
              "<Figure size 1000x600 with 1 Axes>"
            ]
          },
          "metadata": {},
          "output_type": "display_data"
        }
      ],
      "source": [
        "import matplotlib.pyplot as plt\n",
        "\n",
        "# 훈련 과정에서의 로스 값\n",
        "train_loss = history.history['loss']\n",
        "\n",
        "# 검증 과정에서의 로스 값\n",
        "val_loss = history.history['val_loss']\n",
        "\n",
        "# 에폭 수\n",
        "epochs = range(1, len(train_loss) + 1)\n",
        "\n",
        "# 훈련 로스와 검증 로스 시각화\n",
        "plt.figure(figsize=(10, 6))\n",
        "plt.plot(epochs, train_loss, 'bo', label='Training Loss')\n",
        "plt.plot(epochs, val_loss, 'b', label='Validation Loss')\n",
        "plt.title('Training and Validation Loss')\n",
        "plt.xlabel('Epochs')\n",
        "plt.ylabel('Loss')\n",
        "plt.legend()\n",
        "plt.show()"
      ]
    },
    {
      "cell_type": "code",
      "execution_count": null,
      "metadata": {
        "colab": {
          "base_uri": "https://localhost:8080/"
        },
        "id": "zW2efZJRndhx",
        "outputId": "dd98775f-d368-4af0-d938-a66df96a1329"
      },
      "outputs": [
        {
          "name": "stdout",
          "output_type": "stream",
          "text": [
            "2450/2450 [==============================] - 5s 2ms/step - loss: 45.7498\n",
            "Validation MAE: 45.749786376953125\n"
          ]
        }
      ],
      "source": [
        "# 모델 평가\n",
        "val_loss = model.evaluate(X_val, y_val)\n",
        "print(f'Validation MAE: {val_loss}')"
      ]
    },
    {
      "cell_type": "code",
      "execution_count": null,
      "metadata": {
        "colab": {
          "base_uri": "https://localhost:8080/"
        },
        "id": "vKLaW8PcDwuT",
        "outputId": "be167c7d-508d-4623-e275-eb4f394f9079"
      },
      "outputs": [
        {
          "name": "stdout",
          "output_type": "stream",
          "text": [
            "6891/6891 [==============================] - 11s 2ms/step\n"
          ]
        }
      ],
      "source": [
        "predictions = model.predict(test)"
      ]
    },
    {
      "cell_type": "code",
      "execution_count": null,
      "metadata": {
        "colab": {
          "base_uri": "https://localhost:8080/"
        },
        "id": "Z9QnFPtvEFUz",
        "outputId": "c165df3f-132e-452d-cd80-343833c2dda8"
      },
      "outputs": [
        {
          "name": "stdout",
          "output_type": "stream",
          "text": [
            "220491\n"
          ]
        }
      ],
      "source": [
        "print(len(predictions))"
      ]
    },
    {
      "cell_type": "code",
      "execution_count": null,
      "metadata": {
        "colab": {
          "base_uri": "https://localhost:8080/"
        },
        "id": "3stBvAHvGKhV",
        "outputId": "b1f553da-cd3e-4d61-b13a-f80cdbb1467c"
      },
      "outputs": [
        {
          "name": "stdout",
          "output_type": "stream",
          "text": [
            "Predictions do not contain NaN values.\n",
            "NaN 값의 개수: 0\n"
          ]
        }
      ],
      "source": [
        "import numpy as np\n",
        "\n",
        "# 예측값에 결측치 여부를 확인\n",
        "has_nan = np.isnan(predictions).any()\n",
        "\n",
        "if has_nan:\n",
        "    print(\"Predictions contain NaN values.\")\n",
        "else:\n",
        "    print(\"Predictions do not contain NaN values.\")\n",
        "\n",
        "nan_count = np.isnan(predictions).sum()\n",
        "\n",
        "print(\"NaN 값의 개수:\", nan_count)"
      ]
    },
    {
      "cell_type": "code",
      "execution_count": null,
      "metadata": {
        "id": "r3lmm-z6ngua"
      },
      "outputs": [],
      "source": [
        "submit = pd.read_csv('/content/drive/MyDrive/Dacon/HD/sample_submission.csv')\n",
        "submit['CI_HOUR'] = predictions\n",
        "submit.to_csv('/content/drive/MyDrive/Dacon/HD/MLP_llast_submit.csv', index=False)"
      ]
    },
    {
      "cell_type": "code",
      "execution_count": null,
      "metadata": {
        "id": "Fyfrw082xJej"
      },
      "outputs": [],
      "source": [
        "import torch\n",
        "import torch.nn as nn\n",
        "import torch.optim as optim\n",
        "from torch.utils.data import Dataset, DataLoader\n",
        "from sklearn.model_selection import train_test_split\n",
        "import pandas as pd\n",
        "import numpy as np\n",
        "from tqdm import tqdm"
      ]
    },
    {
      "cell_type": "code",
      "execution_count": null,
      "metadata": {
        "id": "3jgxjHEPw_Ij"
      },
      "outputs": [],
      "source": [
        "# 목적 변수 추출\n",
        "X = pd.DataFrame(train.drop(columns=['CI_HOUR']))\n",
        "y = pd.DataFrame(train['CI_HOUR'])"
      ]
    },
    {
      "cell_type": "code",
      "execution_count": null,
      "metadata": {
        "id": "3V8oPglFxLse"
      },
      "outputs": [],
      "source": [
        "# 사용자 정의 데이터셋 클래스 정의\n",
        "class CustomDataset(Dataset):\n",
        "    def __init__(self, X, y):\n",
        "        # X와 y가 데이터프레임인지 확인\n",
        "        if isinstance(X, pd.DataFrame) and isinstance(y, pd.DataFrame):\n",
        "            # 데이터프레임이 비어있지 않은지 확인\n",
        "            if not X.empty and not y.empty:\n",
        "                self.X = torch.tensor(X.values, dtype=torch.float32)  # 데이터프레임을 텐서로 변환\n",
        "                self.y = torch.tensor(y.values, dtype=torch.float32)  # 데이터프레임을 텐서로 변환\n",
        "            else:\n",
        "                raise ValueError(\"데이터프레임이 비어 있습니다.\")\n",
        "        else:\n",
        "            raise ValueError(\"입력된 데이터가 데이터프레임 형식이 아닙니다.\")\n",
        "\n",
        "    def __len__(self):\n",
        "        return len(self.X)\n",
        "\n",
        "    def __getitem__(self, idx):\n",
        "        return self.X[idx], self.y[idx]\n",
        "\n",
        "class DNNModel(nn.Module):\n",
        "    def __init__(self, input_size, hidden_size1, hidden_size2, output_size, dropout_prob=0.5):\n",
        "        super(DNNModel, self).__init__()\n",
        "        self.fc1 = nn.Linear(input_size, hidden_size1)  # 입력층 -> 은닉층1\n",
        "        self.relu1 = nn.ReLU()  # ReLU 활성화 함수\n",
        "        self.dropout1 = nn.Dropout(dropout_prob)  # 첫 번째 드롭아웃 추가\n",
        "        self.fc2 = nn.Linear(hidden_size1, hidden_size2)  # 은닉층1 -> 은닉층2\n",
        "        self.relu2 = nn.ReLU()  # ReLU 활성화 함수\n",
        "        self.dropout2 = nn.Dropout(dropout_prob)  # 두 번째 드롭아웃 추가\n",
        "        self.fc3 = nn.Linear(hidden_size2, output_size)  # 은닉층2 -> 출력층\n",
        "\n",
        "    def forward(self, x):\n",
        "        x = self.fc1(x)\n",
        "        x = self.relu1(x)\n",
        "        x = self.dropout1(x)  # 첫 번째 드롭아웃 적용\n",
        "        x = self.fc2(x)\n",
        "        x = self.relu2(x)\n",
        "        x = self.dropout2(x)  # 두 번째 드롭아웃 적용\n",
        "        x = self.fc3(x)\n",
        "        return x"
      ]
    },
    {
      "cell_type": "code",
      "execution_count": null,
      "metadata": {
        "id": "fRMD_h330wLO"
      },
      "outputs": [],
      "source": [
        "# # 신경망 모델 정의\n",
        "# class DNNModel(nn.Module):\n",
        "#     def __init__(self, input_size, hidden_size, output_size):\n",
        "#         super(DNNModel, self).__init__()\n",
        "#         self.fc1 = nn.Linear(input_size, hidden_size)  # 입력층 -> 은닉층\n",
        "#         self.relu = nn.ReLU()  # ReLU 활성화 함수\n",
        "#         self.fc2 = nn.Linear(hidden_size, output_size)  # 은닉층 -> 출력층\n",
        "\n",
        "#     def forward(self, x):\n",
        "#         x = self.fc1(x)\n",
        "#         x = self.relu(x)\n",
        "#         x = self.fc2(x)\n",
        "#         return x"
      ]
    },
    {
      "cell_type": "code",
      "execution_count": null,
      "metadata": {
        "colab": {
          "base_uri": "https://localhost:8080/"
        },
        "id": "8bsFd-etziKl",
        "outputId": "152cc336-b484-4f9f-9095-72cb5c8d5de2"
      },
      "outputs": [
        {
          "name": "stdout",
          "output_type": "stream",
          "text": [
            "<class 'pandas.core.frame.DataFrame'>\n",
            "<class 'pandas.core.frame.DataFrame'>\n"
          ]
        }
      ],
      "source": [
        "print(type(X_train))  # <class 'numpy.ndarray'>\n",
        "print(type(y_train))  # <class 'numpy.ndarray'>"
      ]
    },
    {
      "cell_type": "code",
      "execution_count": null,
      "metadata": {
        "id": "0SQPErCNjScO"
      },
      "outputs": [],
      "source": [
        "from tqdm import tqdm\n",
        "\n",
        "# CUDA가 사용 가능한지 확인\n",
        "device = torch.device(\"cuda\" if torch.cuda.is_available() else \"cpu\")\n",
        "print(\"Using device:\", device)\n",
        "\n",
        "# 데이터를 훈련셋과 검증셋으로 나누기\n",
        "X_train, X_val, y_train, y_val = train_test_split(X, y, test_size=0.2, random_state=42)\n",
        "\n",
        "# 데이터셋 및 데이터로더 생성\n",
        "train_dataset = CustomDataset(X_train, y_train)\n",
        "val_dataset = CustomDataset(X_val, y_val)\n",
        "train_loader = DataLoader(train_dataset, batch_size=64, shuffle=True)\n",
        "val_loader = DataLoader(val_dataset, batch_size=64, shuffle=False)\n",
        "\n",
        "# 하이퍼파라미터 설정\n",
        "input_size = 19\n",
        "hidden_size1 = 128\n",
        "hidden_size2 = 128\n",
        "output_size = 1\n",
        "num_epochs = 150\n",
        "learning_rate = 0.001\n",
        "\n",
        "# 모델, 손실 함수, 최적화 알고리즘 설정 및 GPU로 이동\n",
        "model = DNNModel(input_size, hidden_size1, hidden_size2, output_size).to(device)\n",
        "criterion = nn.L1Loss().to(device)\n",
        "optimizer = optim.Adam(model.parameters(), lr=learning_rate)\n",
        "\n",
        "# 모델 학습\n",
        "train_losses = []\n",
        "val_losses = []\n",
        "\n",
        "# tqdm을 이용하여 진행 상황 시각화\n",
        "for epoch in range(num_epochs):\n",
        "    model.train()\n",
        "    total_loss = 0\n",
        "    for inputs, targets in train_loader:\n",
        "        inputs, targets = inputs.to(device), targets.to(device)  # 데이터를 GPU로 옮김\n",
        "        optimizer.zero_grad()\n",
        "        outputs = model(inputs)\n",
        "        loss = criterion(outputs.squeeze(), targets)\n",
        "        loss.backward()\n",
        "        optimizer.step()\n",
        "        total_loss += loss.item() * len(inputs)\n",
        "    average_train_loss = total_loss / len(train_loader.dataset)\n",
        "    train_losses.append(average_train_loss)\n",
        "\n",
        "    # 검증 데이터셋에 대한 손실 계산\n",
        "    model.eval()\n",
        "    val_loss = 0\n",
        "    with torch.no_grad():\n",
        "        for inputs, targets in val_loader:\n",
        "            inputs, targets = inputs.to(device), targets.to(device)  # 데이터를 GPU로 옮김\n",
        "            outputs = model(inputs)\n",
        "            val_loss += criterion(outputs.squeeze(), targets).item() * len(inputs)\n",
        "        average_val_loss = val_loss / len(val_loader.dataset)\n",
        "        val_losses.append(average_val_loss)\n",
        "\n",
        "    print(f\"Epoch [{epoch+1}/{num_epochs}] - Train Loss: {average_train_loss:.4f}, Validation Loss: {average_val_loss:.4f}\")"
      ]
    },
    {
      "cell_type": "code",
      "execution_count": null,
      "metadata": {
        "colab": {
          "base_uri": "https://localhost:8080/",
          "height": 467
        },
        "id": "ZY0MycLBltYv",
        "outputId": "4f8eb297-63d8-441b-d6b3-60c6245d9772"
      },
      "outputs": [
        {
          "data": {
            "image/png": "[encoded data removed]",
            "text/plain": [
              "<Figure size 1000x500 with 1 Axes>"
            ]
          },
          "metadata": {},
          "output_type": "display_data"
        }
      ],
      "source": [
        "\n",
        "# 학습 과정 시각화\n",
        "import matplotlib.pyplot as plt\n",
        "\n",
        "plt.figure(figsize=(10, 5))\n",
        "plt.plot(train_losses, label='Train Loss')\n",
        "plt.plot(val_losses, label='Validation Loss')\n",
        "plt.xlabel('Epochs')\n",
        "plt.ylabel('Loss')\n",
        "plt.legend()\n",
        "plt.show()\n"
      ]
    },
    {
      "cell_type": "code",
      "execution_count": null,
      "metadata": {
        "id": "V7gHIUVth68q"
      },
      "outputs": [],
      "source": [
        "torch.save(model.state_dict(), 'DNN.pth')"
      ]
    },
    {
      "cell_type": "code",
      "execution_count": null,
      "metadata": {
        "id": "Gs8TBJqEh68r"
      },
      "outputs": [],
      "source": [
        "# 학습된 모델 가중치 불러오기 (만약 학습이 완료된 모델을 사용한다면 이 부분을 생략해도 됩니다.)\n",
        "model.load_state_dict(torch.load('DNN.pth'))\n",
        "\n",
        "# 모델을 평가 모드로 설정\n",
        "model.eval()\n",
        "\n",
        "# 테스트 데이터를 PyTorch 텐서로 변환\n",
        "test_tensor = torch.tensor(test.values, dtype=torch.float32)\n",
        "\n",
        "# 예측 수행\n",
        "with torch.no_grad():\n",
        "    predictions = model(test_tensor)\n",
        "\n",
        "# 예측 결과 출력\n",
        "print(predictions)"
      ]
    },
    {
      "cell_type": "code",
      "execution_count": null,
      "metadata": {
        "id": "V2AuwuENh68r"
      },
      "outputs": [],
      "source": [
        "submit = pd.read_csv('경로/sample_submission.csv')\n",
        "submit['CI_HOUR'] = predictions\n",
        "submit.to_csv('경로/파일명.csv', index=False)"
      ]
    }
  ],
  "metadata": {
    "accelerator": "GPU",
    "colab": {
      "collapsed_sections": [
        "IZOXtT5Jm31H",
        "HdtM7d1savO9",
        "ToTSY37G_VnL",
        "xfyLwBg3LsAb",
        "hhTUGtgfw6pG",
        "8mBimi0fh_P_"
      ],
      "gpuType": "T4",
      "provenance": []
    },
    "kernelspec": {
      "display_name": "Python 3",
      "name": "python3"
    },
    "language_info": {
      "name": "python"
    }
  },
  "nbformat": 4,
  "nbformat_minor": 0
}
